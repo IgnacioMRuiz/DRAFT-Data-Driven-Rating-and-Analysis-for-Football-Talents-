{
 "cells": [
  {
   "cell_type": "code",
   "execution_count": 44,
   "metadata": {},
   "outputs": [],
   "source": [
    "import pandas as pd\n",
    "import numpy as np"
   ]
  },
  {
   "cell_type": "code",
   "execution_count": 45,
   "metadata": {},
   "outputs": [],
   "source": [
    "# Adjust the path as per your file structure\n",
    "player_stats_all_seasons = '/Users/nacho/Desktop/DV7/Pyhton_Coded_Algorithem/data/Processed/player_stats_all_seasons.xlsx'\n",
    "\n",
    "# Read the Excel files\n",
    "player_stats_all_seasons = pd.read_excel(player_stats_all_seasons, engine='openpyxl')"
   ]
  },
  {
   "cell_type": "code",
   "execution_count": 46,
   "metadata": {},
   "outputs": [],
   "source": [
    "def normalizar_estadisticas_por_grupo(df, columnas):\n",
    "    \"\"\"\n",
    "    Normaliza las estadísticas de los jugadores aplicando filtros de temporada y \n",
    "    normalizando los valores al rango 0-100.\n",
    "    \"\"\"\n",
    "    # Calcular el umbral de minutos para la temporada 2023\n",
    "    umbral_2023 = df[df['Temporada'] == 2023]['Minutos'].max() * 0.1\n",
    "\n",
    "    # Preparar un DataFrame para las columnas normalizadas\n",
    "    df_norm = pd.DataFrame(index=df.index)\n",
    "\n",
    "    # Iterar sobre las columnas para normalizar\n",
    "    for columna in columnas:\n",
    "        df_norm[columna + '_norm'] = np.nan  # Inicializar con NaN\n",
    "\n",
    "        # Agrupar por 'Posición_General', 'Temporada', y 'Competición'\n",
    "        for (posicion, temporada, competicion), group_df in df.groupby(['Posición_General', 'Temporada', 'Competición']):\n",
    "            # Aplicar condiciones de filtro de la primera función\n",
    "            if temporada in [2018, 2019, 2020, 2021, 2022]:\n",
    "                indices = group_df[group_df['Minutos'] >= 400].index\n",
    "            elif temporada == 2023:\n",
    "                indices = group_df[group_df['Minutos'] >= umbral_2023].index\n",
    "            else:\n",
    "                continue  # Para otras temporadas, no se aplica normalización\n",
    "\n",
    "            # Calcular z-scores y escalar al rango 0-100 para los índices seleccionados\n",
    "            if not indices.empty:\n",
    "                mean = df.loc[indices, columna].mean()\n",
    "                std = df.loc[indices, columna].std()\n",
    "                if std > 0:\n",
    "                    z_scores = (df.loc[indices, columna] - mean) / std\n",
    "                    min_z = z_scores.min()\n",
    "                    max_z = z_scores.max()\n",
    "                    scaled = (z_scores - min_z) / (max_z - min_z) * 100\n",
    "                    df_norm.loc[indices, columna + '_norm'] = scaled\n",
    "                else:\n",
    "                    df_norm.loc[indices, columna + '_norm'] = 50  # Valor neutro si no hay variación\n",
    "\n",
    "    # Combinar el DataFrame original con las nuevas columnas normalizadas\n",
    "    df_final = pd.concat([df, df_norm], axis=1)\n",
    "\n",
    "    return df_final"
   ]
  },
  {
   "cell_type": "code",
   "execution_count": 47,
   "metadata": {},
   "outputs": [
    {
     "name": "stderr",
     "output_type": "stream",
     "text": [
      "/var/folders/31/w995rjws313c_wf9sz9kmcvm0000gn/T/ipykernel_94096/4108186703.py:14: PerformanceWarning: DataFrame is highly fragmented.  This is usually the result of calling `frame.insert` many times, which has poor performance.  Consider joining all columns at once using pd.concat(axis=1) instead. To get a de-fragmented frame, use `newframe = frame.copy()`\n",
      "  df_norm[columna + '_norm'] = np.nan  # Inicializar con NaN\n"
     ]
    }
   ],
   "source": [
    "columnas_a_normalizar = [\n",
    "    \"Minutos\", \"Faltas x90\",\"Tarjetas Amarillas\", \"Tarjetas Amarillas x90\",\n",
    "    \"Tarjetas Rojas\", \"Tarjetas Rojas x90\", \"Faltas Sufridas x90\", \"Aceleraciones x90\", \"Carreras Progresivas x90\",\n",
    "    \"Goles Concedidos\", \"Goles Concedidos x90\", \"Xg Parado\", \"Xg Parado x90\", \"Porterías A Cero\", \"Tiros En Contra\", \"Tiros En Contra x90\", \n",
    "    \"Paradas x90\", \"Paradas, %\", \"Goles Prevenidos\", \"Salidas Del Portero x90\", \"Duelos Aéreos Del Portero x90\", \"Goles Prevenidos x90\", \n",
    "    \"Acciones Defensivas Exitosas x90\", \"Intercepciones x90\", \"Intercepciones AjPos x90\", \"Entradas x90\", \"Entradas AjPos x90\", \"Duelos x90\", \n",
    "    \"Duelos Ganados\", \"Duelos Defensivos Ganados\", \"Duelos Defensivos x90\", \"Duelos Aéreos x90\", \"Duelos Aéreos Ganados\", \n",
    "    \"Duelos Ofensivos Ganados\", \"Duelos Ofensivos x90\", \"Pases x90\", \"Pases Completados, %\", \"Pases Cortos Y Medios x90\", \n",
    "    \"Pases Cortos Y Medios Completados, %\", \"Longitud Promedio De Pase\", \"Pases Hacia Adelante x90\", \"Pases Hacia Adelante Completados, %\",\n",
    "    \"Pases Verticales x90\", \"Pases Verticales Completados, %\", \"Pases Clave x90\", \"Pases Inteligentes x90\", \"Pases Inteligentes Completados, %\", \n",
    "    \"Pases a Último Tercio x90\", \"Pases Completados a Último Tercio, %\", \"Pases al espacio Exitosos, %\", \"Pases al espacio x90\",\n",
    "    \"Pase Profundo Completado x90\", \"Centros Completados, %\", \"Pase Progresivo x90\", \"Pase Progresivo Completados, %\", \n",
    "    \"Pase A Área De Penalti x90\", \"Pase Preciso A Área De Penalti, %\", \"Centros x90\", \"Centros Desde La Derecha x90\", \n",
    "    \"Centros Completados Desde La Derecha, %\", \"Centros Desdes La Izquierda x90\", \"Centros Completados Desde La Izquierda, %\",\n",
    "    \"Centros al Área x90\", \"Centros Profundos Completados x90\", \"Pases Largos x90\", \"Longitud Promedio De Pase Largo\", \n",
    "    \"Pases Largos Completados, %\", \"Pases Recibidos x90\", \"Pases Largos Recibido x90\", \"Asistencias\", \"Asistencias x90\", \"xA\", \"xA x90\",\n",
    "    \"Preasistencia x90\", \"Pre Preasistencia x90\", \"Asistencias De Tiro x90\", \"Pases Hacia Atrás x90\", \"Pases Hacia Atrás Completados, %\", \n",
    "    \"Pase Hacia Atrás Al Portero x90\", \"Acciones Ofensivas Completados x90\", \"Regates x90\", \"Regates Completados, %\", \"Tiros\", \"Tiros x90\", \n",
    "    \"Tiros A Puerta, %\", \"Xg\", \"Xg x90\", \"Goles\", \"Goles x90\", \"Goles De Cabeza\", \"Goles De Cabeza x90\", \"Toques En El Área x90\",\n",
    "    \"Goles sin Penalti\", \"Goles sin Penalti x90\", \"Penaltis Tirados\", \"Penaltis Marcados, %\", \"Tasa de Conversión de Gol, %\", \n",
    "    \"Tiros Libres Tirados x90\", \"Tiros Libres Directos Tirados x90\", \"Tiros Libres Directos A Puerta, %\", \"Córners Tirados x90\"\n",
    "]\n",
    "\n",
    "# Llamar a la función con el DataFrame y las columnas especificadas\n",
    "df_normalized = normalizar_estadisticas_por_grupo(player_stats_all_seasons, columnas_a_normalizar)"
   ]
  },
  {
   "cell_type": "code",
   "execution_count": 48,
   "metadata": {},
   "outputs": [],
   "source": [
    "# Export the processed data to an Excel file\n",
    "processed_file_path = '/Users/nacho/Desktop/DV7/Pyhton_Coded_Algorithem/data/Normalized/player_stats_all_seasons_normalized.xlsx'\n",
    "df_normalized.to_excel(processed_file_path, index=False, engine='openpyxl')"
   ]
  }
 ],
 "metadata": {
  "kernelspec": {
   "display_name": "Python 3",
   "language": "python",
   "name": "python3"
  },
  "language_info": {
   "codemirror_mode": {
    "name": "ipython",
    "version": 3
   },
   "file_extension": ".py",
   "mimetype": "text/x-python",
   "name": "python",
   "nbconvert_exporter": "python",
   "pygments_lexer": "ipython3",
   "version": "3.9.6"
  }
 },
 "nbformat": 4,
 "nbformat_minor": 2
}
